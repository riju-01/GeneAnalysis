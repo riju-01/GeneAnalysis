{
  "nbformat": 4,
  "nbformat_minor": 0,
  "metadata": {
    "colab": {
      "provenance": [],
      "gpuType": "T4"
    },
    "kernelspec": {
      "name": "python3",
      "display_name": "Python 3"
    },
    "language_info": {
      "name": "python"
    },
    "accelerator": "GPU"
  },
  "cells": [
    {
      "cell_type": "code",
      "execution_count": null,
      "metadata": {
        "colab": {
          "base_uri": "https://localhost:8080/"
        },
        "id": "o8mto2OE4fPg",
        "outputId": "798ee4c8-6b06-44b7-8e78-8f8a16f269ae"
      },
      "outputs": [
        {
          "output_type": "stream",
          "name": "stdout",
          "text": [
            "       !Sample_title      E51      E60     E139     E109     E208     E238  \\\n",
            "0  TC0100006437.hg.1  4.61101  3.93670  4.50632  3.25702  3.43970  3.61398   \n",
            "1  TC0100006476.hg.1  5.18858  4.69930  4.75295  5.41349  5.41200  5.17729   \n",
            "2  TC0100006479.hg.1  4.76671  5.07218  4.86237  5.35532  4.81166  4.45512   \n",
            "3  TC0100006480.hg.1  5.99295  5.03977  5.73988  5.61755  6.01122  5.51166   \n",
            "4  TC0100006483.hg.1  5.90252  5.70587  6.02649  5.24064  6.29135  4.96404   \n",
            "\n",
            "      E285     E266     E282  ...     C212     C102     C194     C180  \\\n",
            "0  4.01474  3.94419  4.06883  ...  3.45582  3.42089  3.82201  3.44718   \n",
            "1  4.97784  4.89836  4.88841  ...  5.22657  5.13776  3.95715  5.21787   \n",
            "2  5.04126  5.47324  4.94555  ...  5.14163  5.21066  4.48366  4.83351   \n",
            "3  6.07212  5.24071  6.34674  ...  6.61143  6.54831  7.56805  7.31333   \n",
            "4  4.99105  5.05505  4.53265  ...  5.14277  4.69743  5.08882  5.53542   \n",
            "\n",
            "      C200     C169     C160     C280     C276  Extracted Gene Names  \n",
            "0  3.88868  3.62428  3.61360  3.70402  3.43657                 OR4F5  \n",
            "1  5.58615  5.20241  5.31827  4.76315  4.84886                SAMD11  \n",
            "2  5.03233  5.00901  4.87182  5.06028  5.47748                KLHL17  \n",
            "3  7.24180  6.73315  6.65539  6.88071  6.60243               PLEKHN1  \n",
            "4  4.99302  5.52507  5.22665  5.08968  5.11562                 ISG15  \n",
            "\n",
            "[5 rows x 26 columns]\n"
          ]
        }
      ],
      "source": [
        "import pandas as pd\n",
        "\n",
        "eoe_df = pd.read_excel(\"/content/Final_EOE_Dataset_V2.xlsx\")\n",
        "\n",
        "print(eoe_df.head())\n",
        "\n",
        "\n",
        "eoe_df.to_csv(\"eoe_data.csv\", index=False)"
      ]
    },
    {
      "cell_type": "code",
      "source": [
        "import pandas as pd\n",
        "\n",
        "data = pd.read_csv('eoe_data.csv')\n",
        "\n",
        "data_dropped = data.iloc[:, 1:-1]\n",
        "\n",
        "transposed_data = data_dropped.T\n",
        "\n",
        "transposed_data.index = transposed_data.index.str.startswith('E').astype(int)\n",
        "\n",
        "print(transposed_data)\n"
      ],
      "metadata": {
        "colab": {
          "base_uri": "https://localhost:8080/"
        },
        "id": "oB0q9BC75XTN",
        "outputId": "8a86ecda-32cc-4662-a934-b2e02dc28052"
      },
      "execution_count": null,
      "outputs": [
        {
          "output_type": "stream",
          "name": "stdout",
          "text": [
            "     0        1        2        3        4        5        6        7      \\\n",
            "1  4.61101  5.18858  4.76671  5.99295  5.90252  6.30593  4.88346  5.18739   \n",
            "1  3.93670  4.69930  5.07218  5.03977  5.70587  4.94126  4.63002  6.11360   \n",
            "1  4.50632  4.75295  4.86237  5.73988  6.02649  5.20489  5.16173  6.20032   \n",
            "1  3.25702  5.41349  5.35532  5.61755  5.24064  6.12718  4.28320  5.67839   \n",
            "1  3.43970  5.41200  4.81166  6.01122  6.29135  4.24203  6.04386  6.35652   \n",
            "1  3.61398  5.17729  4.45512  5.51166  4.96404  6.24263  4.72898  5.61296   \n",
            "1  4.01474  4.97784  5.04126  6.07212  4.99105  5.18019  4.76295  5.79796   \n",
            "1  3.94419  4.89836  5.47324  5.24071  5.05505  6.05403  5.03961  5.29539   \n",
            "1  4.06883  4.88841  4.94555  6.34674  4.53265  5.63077  4.74499  5.66557   \n",
            "1  3.56435  4.94963  5.27088  6.44707  5.28232  5.25272  4.56062  6.52139   \n",
            "1  3.91653  4.80516  5.16140  5.44060  5.19331  5.88902  4.11135  5.21618   \n",
            "1  3.58413  4.85533  4.82544  6.68790  4.86229  5.32185  4.70684  5.24996   \n",
            "0  3.24731  5.21370  4.87763  6.55844  5.75243  4.91268  4.82959  5.28488   \n",
            "0  3.79417  4.69198  5.09632  5.67114  4.84792  5.25730  4.31253  5.48363   \n",
            "0  3.95053  5.19551  4.68386  6.43627  5.49164  5.37798  4.45930  5.61519   \n",
            "0  3.45582  5.22657  5.14163  6.61143  5.14277  4.77588  4.93555  5.66295   \n",
            "0  3.42089  5.13776  5.21066  6.54831  4.69743  5.03962  4.41789  5.66048   \n",
            "0  3.82201  3.95715  4.48366  7.56805  5.08882  5.18321  4.98867  5.76090   \n",
            "0  3.44718  5.21787  4.83351  7.31333  5.53542  5.45212  4.96880  5.32332   \n",
            "0  3.88868  5.58615  5.03233  7.24180  4.99302  5.93452  5.07119  5.27602   \n",
            "0  3.62428  5.20241  5.00901  6.73315  5.52507  5.46881  4.29120  5.35254   \n",
            "0  3.61360  5.31827  4.87182  6.65539  5.22665  5.49158  4.48526  5.37520   \n",
            "0  3.70402  4.76315  5.06028  6.88071  5.08968  5.00016  4.75883  5.48715   \n",
            "0  3.43657  4.84886  5.47748  6.60243  5.11562  5.77449  4.38606  5.54039   \n",
            "\n",
            "     8        9      ...    21438    21439    21440    21441    21442  \\\n",
            "1  6.64522  3.57601  ...  3.08337  3.69073  3.19236  2.93649  4.15262   \n",
            "1  5.53967  3.55844  ...  3.24617  6.40829  3.92462  3.72030  5.49345   \n",
            "1  6.23498  3.49524  ...  2.89213  3.70781  3.38894  3.58710  4.45971   \n",
            "1  6.30438  3.18774  ...  3.01149  3.85573  3.86987  3.20993  4.40281   \n",
            "1  6.30525  3.87256  ...  3.17456  4.87080  3.68496  3.68173  5.09028   \n",
            "1  5.79451  3.48558  ...  3.11239  4.25229  3.31499  3.33566  4.94466   \n",
            "1  6.71230  3.26948  ...  3.11879  4.42882  3.69993  3.23536  4.60125   \n",
            "1  6.92655  3.35165  ...  3.06413  3.12660  3.20647  2.95164  4.02231   \n",
            "1  5.76847  3.13595  ...  3.21724  3.75720  3.16525  3.06118  4.01903   \n",
            "1  6.63259  3.29065  ...  3.04818  3.73102  3.46332  2.92434  4.83842   \n",
            "1  5.93288  3.26957  ...  3.11532  3.10771  3.11851  2.98038  4.52286   \n",
            "1  5.98918  3.01058  ...  2.92167  3.39977  3.13598  2.97473  4.59961   \n",
            "0  5.74942  3.16794  ...  2.81534  3.78307  3.09369  3.29178  4.66243   \n",
            "0  6.27641  3.18434  ...  3.26729  3.89434  3.24693  3.04717  4.91940   \n",
            "0  6.14843  4.01422  ...  3.56697  4.03044  2.98768  3.20534  4.43563   \n",
            "0  6.15672  3.13914  ...  3.12240  3.42666  3.44389  2.99790  4.51835   \n",
            "0  6.23932  3.29500  ...  2.81703  3.50854  3.17217  2.82587  4.39633   \n",
            "0  6.22481  3.18279  ...  3.40694  3.80370  3.32545  3.36664  4.53209   \n",
            "0  6.66956  3.28271  ...  3.02401  3.77678  3.43206  3.02469  4.47677   \n",
            "0  6.25616  2.94633  ...  2.73216  4.02868  3.46160  2.91311  4.09493   \n",
            "0  6.10525  3.52325  ...  3.15906  3.89629  3.43099  2.92758  4.15348   \n",
            "0  5.92465  3.49057  ...  3.64874  3.57679  3.23901  3.00974  4.31506   \n",
            "0  6.34890  3.38301  ...  3.22297  3.83035  3.00302  2.94575  4.03514   \n",
            "0  5.85908  3.21523  ...  3.01625  3.80365  2.97241  2.82201  4.13062   \n",
            "\n",
            "      21443    21444    21445    21446    21447  \n",
            "1  10.10210  5.93044  4.01845  3.84448  5.18179  \n",
            "1  11.64140  3.81462  3.67191  3.48169  5.04846  \n",
            "1   9.17717  6.42612  4.35515  4.12316  5.76080  \n",
            "1   9.46352  4.73510  4.22654  3.84278  4.73625  \n",
            "1   8.33642  4.78254  4.47727  5.13702  5.94928  \n",
            "1   9.28908  4.75167  4.88415  4.45065  4.94354  \n",
            "1   9.33353  5.45078  4.01259  4.41662  4.92145  \n",
            "1  10.66690  4.46380  4.41177  3.86641  4.54692  \n",
            "1   9.72015  4.08545  4.48141  4.00709  4.42811  \n",
            "1   9.69698  4.13899  4.43278  3.90098  5.25498  \n",
            "1  10.08010  4.43003  3.33125  3.64505  4.13608  \n",
            "1   9.14856  3.95120  4.62131  3.70509  4.47741  \n",
            "0   9.53401  4.16873  4.17334  3.59549  4.65933  \n",
            "0   9.78116  4.58578  4.29792  3.92565  4.71603  \n",
            "0   9.66364  4.15819  3.94999  3.57907  4.79597  \n",
            "0   9.52659  4.12846  3.68296  3.61259  4.61563  \n",
            "0   9.85141  3.87511  3.85822  3.75273  4.94793  \n",
            "0   8.68615  4.54321  4.24921  4.58770  4.19345  \n",
            "0   9.49090  4.42560  4.84324  4.08475  4.18271  \n",
            "0   8.86633  4.54138  4.05939  4.02573  4.33298  \n",
            "0   9.89931  3.92164  4.22391  3.68646  4.55192  \n",
            "0   9.84061  4.16163  3.85157  4.06752  4.73347  \n",
            "0   9.64962  3.89892  4.01518  3.91771  4.07332  \n",
            "0   9.78342  4.15338  3.87497  3.51249  5.09352  \n",
            "\n",
            "[24 rows x 21448 columns]\n"
          ]
        }
      ]
    },
    {
      "cell_type": "code",
      "source": [
        "import numpy as np\n",
        "\n",
        "\n",
        "transposed_file_name = 'transposed_data.csv'\n",
        "\n",
        "\n",
        "np.savetxt(transposed_file_name, transposed_data, delimiter=',', fmt='%s')\n",
        "\n",
        "print(f\"Transposed data has been saved to '{transposed_file_name}'\")\n"
      ],
      "metadata": {
        "colab": {
          "base_uri": "https://localhost:8080/"
        },
        "id": "q59dsyqQ6BzZ",
        "outputId": "5dff15cc-4d5c-4118-a2dd-976a11b7f666"
      },
      "execution_count": null,
      "outputs": [
        {
          "output_type": "stream",
          "name": "stdout",
          "text": [
            "Transposed data has been saved to 'transposed_data.csv'\n"
          ]
        }
      ]
    },
    {
      "cell_type": "code",
      "source": [
        "\n",
        "import numpy as np\n",
        "import matplotlib.pyplot as plt\n",
        "\n",
        "gene_expression_data = np.loadtxt('transposed_data.csv', delimiter=',')\n",
        "\n",
        "import pandas as pd\n",
        "\n",
        "def evaluate_model(initial_solution, gene_expression_data):\n",
        "    mean_diffs = []\n",
        "\n",
        "    for gene_idx in initial_solution:\n",
        "\n",
        "        selected_gene_data = gene_expression_data[:, gene_idx]\n",
        "\n",
        "\n",
        "        group_1_values = selected_gene_data[:12]\n",
        "        group_0_values = selected_gene_data[12:]\n",
        "\n",
        "\n",
        "        group_1_mean = np.mean(group_1_values)\n",
        "        group_0_mean = np.mean(group_0_values)\n",
        "\n",
        "\n",
        "        mean_diff = np.abs(group_1_mean - group_0_mean)\n",
        "\n",
        "\n",
        "        mean_diffs.append(mean_diff)\n",
        "\n",
        "\n",
        "    return np.sum(mean_diffs)\n",
        "\n",
        "\n",
        "\n",
        "\n",
        "def simulated_annealing_adaptive(initial_solution, gene_expression_data, max_iterations=150000, initial_temperature=1000000, cooling_rate=0.80, adaptive_factor=0.9):\n",
        "    current_solution = initial_solution\n",
        "    best_solution = current_solution\n",
        "    best_fitness = evaluate_model(best_solution, gene_expression_data)\n",
        "    temperature = initial_temperature\n",
        "\n",
        "    fitness_history = [best_fitness]\n",
        "\n",
        "    solution_sets = []\n",
        "    index_frequency = {}\n",
        "\n",
        "    for i in range(max_iterations):\n",
        "\n",
        "        new_solution = current_solution.copy()\n",
        "        idx = np.random.randint(len(new_solution))\n",
        "        new_gene = np.random.randint(0, gene_expression_data.shape[1])\n",
        "        while new_gene in new_solution:\n",
        "            new_gene = np.random.randint(0, gene_expression_data.shape[1])\n",
        "        new_solution[idx] = new_gene\n",
        "\n",
        "\n",
        "        new_fitness = evaluate_model(new_solution, gene_expression_data)\n",
        "\n",
        "\n",
        "        if new_fitness is None:\n",
        "            continue\n",
        "\n",
        "\n",
        "        acceptance_prob = np.exp((new_fitness - best_fitness) / temperature)\n",
        "\n",
        "        if new_fitness > best_fitness or np.random.rand() < acceptance_prob:\n",
        "            current_solution = new_solution\n",
        "            best_fitness = new_fitness\n",
        "\n",
        "\n",
        "        if new_fitness > best_fitness:\n",
        "            best_solution = current_solution.copy()\n",
        "\n",
        "\n",
        "        temperature *= cooling_rate\n",
        "\n",
        "\n",
        "        if i > 0 and i % 100 == 0:\n",
        "            if fitness_history[-1] <= best_fitness:\n",
        "                cooling_rate *= adaptive_factor\n",
        "\n",
        "\n",
        "        fitness_history.append(best_fitness)\n",
        "\n",
        "\n",
        "        if i >= 150000:\n",
        "            solution_sets.append(current_solution)\n",
        "            for index in current_solution:\n",
        "                if index in index_frequency:\n",
        "                    index_frequency[index] += 1\n",
        "                else:\n",
        "                    index_frequency[index] = 1\n",
        "\n",
        "\n",
        "    sorted_indexes = sorted(index_frequency.items(), key=lambda x: x[1], reverse=True)\n",
        "\n",
        "\n",
        "    most_frequent_indexes = [index for index, _ in sorted_indexes[:len(initial_solution)]]\n",
        "\n",
        "    return best_solution, best_fitness, fitness_history, most_frequent_indexes\n",
        "\n",
        "\n",
        "n_genes = 21448\n",
        "n_selected_genes = 40\n",
        "initial_solution = np.random.choice(np.arange(n_genes), size=n_selected_genes, replace=False)\n",
        "\n",
        "\n",
        "\n",
        "best_solution, best_fitness, fitness_history, most_frequent_indexes = simulated_annealing_adaptive(initial_solution, gene_expression_data, max_iterations=200000)\n",
        "\n",
        "print(\"Best Solution (Selected Genes):\", best_solution)\n",
        "print(\"Best Fitness (Evaluation Score):\", best_fitness)\n",
        "print(\"Most Frequent Indexes between 150,000th and 200,000th iteration:\", most_frequent_indexes)\n",
        "\n",
        "# Plot fitness history\n",
        "plt.figure(figsize=(8, 6))\n",
        "plt.plot(fitness_history, 'b-')\n",
        "plt.xlabel('Iteration')\n",
        "plt.ylabel('Fitness')\n",
        "plt.title('Simulated Annealing Fitness over Iterations (with Adaptive Techniques)')\n",
        "plt.grid(True)\n",
        "plt.show()"
      ],
      "metadata": {
        "colab": {
          "base_uri": "https://localhost:8080/",
          "height": 792
        },
        "id": "-bVdWo_gEYgR",
        "outputId": "df58e4bb-d013-41ec-d1ac-e45b4c9818a5"
      },
      "execution_count": null,
      "outputs": [
        {
          "output_type": "stream",
          "name": "stderr",
          "text": [
            "<ipython-input-6-04c57c9bcafb>:68: RuntimeWarning: overflow encountered in exp\n",
            "  acceptance_prob = np.exp((new_fitness - best_fitness) / temperature)\n",
            "<ipython-input-6-04c57c9bcafb>:68: RuntimeWarning: overflow encountered in scalar divide\n",
            "  acceptance_prob = np.exp((new_fitness - best_fitness) / temperature)\n",
            "<ipython-input-6-04c57c9bcafb>:68: RuntimeWarning: divide by zero encountered in scalar divide\n",
            "  acceptance_prob = np.exp((new_fitness - best_fitness) / temperature)\n"
          ]
        },
        {
          "output_type": "stream",
          "name": "stdout",
          "text": [
            "Best Solution (Selected Genes): [11022 15864  6766  5637 10402  5847  2670 15000 10677 17875  9010 12335\n",
            " 17802   688  6925 12360 13766 21014  2450 13773  9419 12619 18177  8101\n",
            "  3196  6651  6816 20316 12547 15415  4747  7069  2594 18395  3882 11555\n",
            "  6879  6861 16164  2074]\n",
            "Best Fitness (Evaluation Score): 195.47966083333333\n",
            "Most Frequent Indexes between 150,000th and 200,000th iteration: [1552, 6459, 11651, 126, 15618, 12750, 4788, 1555, 17137, 13682, 2098, 7036, 18844, 577, 17930, 5833, 2416, 14496, 11650, 5116, 13565, 13618, 5709, 17894, 2482, 18439, 3848, 1554, 1553, 18980, 19819, 7996, 8982, 11353, 12055, 9242, 19602, 14314, 8650, 13730]\n"
          ]
        },
        {
          "output_type": "display_data",
          "data": {
            "text/plain": [
              "<Figure size 800x600 with 1 Axes>"
            ],
            "image/png": "[encoded data removed]"
          },
          "metadata": {}
        }
      ]
    },
    {
      "cell_type": "markdown",
      "source": [
        "Common genes - CRISP2\n",
        "FAM43B\n",
        "EXOC3\n",
        "STAT6\n",
        "MTHFD2L\n",
        "ARC\n",
        "ZFAND4\n",
        "PPP2R1B"
      ],
      "metadata": {
        "id": "_0j1kWG9HGil"
      }
    },
    {
      "cell_type": "code",
      "source": [
        "\n",
        "\n",
        "import pandas as pd\n",
        "\n",
        "\n",
        "data = pd.read_excel('/content/Final_EOE_Dataset_V2.xlsx')\n",
        "\n",
        "indices = [11551, 6458, 11650, 125, 15617, 12749, 4787, 1554, 17136,\n",
        "           13681, 2097, 7035, 18843, 576, 17929, 5832, 2415, 14495,\n",
        "           11649, 5115, 13564, 13617, 5708, 17893, 2481, 18438, 3847,\n",
        "           1553, 1552, 18979, 19818, 7995, 8981, 11352, 12054, 9241, 19601, 14313, 8649, 13729]\n",
        "\n",
        "gene_names = data.loc[indices, 'Extracted Gene Names']\n",
        "\n",
        "print(gene_names)"
      ],
      "metadata": {
        "colab": {
          "base_uri": "https://localhost:8080/"
        },
        "id": "y_0I4yIXEwkd",
        "outputId": "06f94a6e-393e-4704-93b8-ebcb45a0b1d3"
      },
      "execution_count": null,
      "outputs": [
        {
          "output_type": "stream",
          "name": "stdout",
          "text": [
            "11551      HSPA12A\n",
            "6458         DPCR1\n",
            "11650       FAM25G\n",
            "125         FAM43B\n",
            "15617          IVD\n",
            "12749      PPP2R1B\n",
            "4787       MTHFD2L\n",
            "1554        SPRR2E\n",
            "17136         GGT6\n",
            "13681        KRT79\n",
            "2097          RORC\n",
            "7035        CRISP2\n",
            "18843       ZNF562\n",
            "576           OAZ3\n",
            "17929     C18orf54\n",
            "5832         EXOC3\n",
            "2415         IL36G\n",
            "14495        TPPP2\n",
            "11649        ANXA8\n",
            "5115          CSN2\n",
            "13564        RECQL\n",
            "13617        RPAP3\n",
            "5708       SPINK13\n",
            "17893        TAF4B\n",
            "2481         LYPD6\n",
            "18438       COX6B1\n",
            "3847          CPB1\n",
            "1553        SPRR2B\n",
            "1552        SPRR2D\n",
            "18979         DMKN\n",
            "19818      FAM217B\n",
            "7995          HIP1\n",
            "8981           ARC\n",
            "11352       ZFAND4\n",
            "12054        CCND1\n",
            "9241          RMI1\n",
            "19601    LOC388780\n",
            "14313     CSNK1A1L\n",
            "8649        ADGRB1\n",
            "13729        STAT6\n",
            "Name: Extracted Gene Names, dtype: object\n"
          ]
        }
      ]
    },
    {
      "cell_type": "code",
      "source": [],
      "metadata": {
        "id": "lIRKM8XTXdPd"
      },
      "execution_count": null,
      "outputs": []
    }
  ]
}