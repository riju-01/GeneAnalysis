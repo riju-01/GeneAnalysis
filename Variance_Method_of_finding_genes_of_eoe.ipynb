{
  "nbformat": 4,
  "nbformat_minor": 0,
  "metadata": {
    "colab": {
      "provenance": []
    },
    "kernelspec": {
      "name": "python3",
      "display_name": "Python 3"
    },
    "language_info": {
      "name": "python"
    }
  },
  "cells": [
    {
      "cell_type": "code",
      "source": [
        "import pandas as pd\n",
        "\n",
        "\n",
        "eoe_df = pd.read_excel(\"/content/Final_EOE_Dataset_V2.xlsx\")\n",
        "\n",
        "print(eoe_df.head())\n",
        "\n",
        "eoe_df.to_csv(\"eoe_data.csv\", index=False)"
      ],
      "metadata": {
        "colab": {
          "base_uri": "https://localhost:8080/"
        },
        "id": "mCZMdWUZdonl",
        "outputId": "bcffd86a-fe4f-49e8-a416-62cd99363b7c"
      },
      "execution_count": null,
      "outputs": [
        {
          "output_type": "stream",
          "name": "stdout",
          "text": [
            "       !Sample_title      E51      E60     E139     E109     E208     E238  \\\n",
            "0  TC0100006437.hg.1  4.61101  3.93670  4.50632  3.25702  3.43970  3.61398   \n",
            "1  TC0100006476.hg.1  5.18858  4.69930  4.75295  5.41349  5.41200  5.17729   \n",
            "2  TC0100006479.hg.1  4.76671  5.07218  4.86237  5.35532  4.81166  4.45512   \n",
            "3  TC0100006480.hg.1  5.99295  5.03977  5.73988  5.61755  6.01122  5.51166   \n",
            "4  TC0100006483.hg.1  5.90252  5.70587  6.02649  5.24064  6.29135  4.96404   \n",
            "\n",
            "      E285     E266     E282  ...     C212     C102     C194     C180  \\\n",
            "0  4.01474  3.94419  4.06883  ...  3.45582  3.42089  3.82201  3.44718   \n",
            "1  4.97784  4.89836  4.88841  ...  5.22657  5.13776  3.95715  5.21787   \n",
            "2  5.04126  5.47324  4.94555  ...  5.14163  5.21066  4.48366  4.83351   \n",
            "3  6.07212  5.24071  6.34674  ...  6.61143  6.54831  7.56805  7.31333   \n",
            "4  4.99105  5.05505  4.53265  ...  5.14277  4.69743  5.08882  5.53542   \n",
            "\n",
            "      C200     C169     C160     C280     C276  Extracted Gene Names  \n",
            "0  3.88868  3.62428  3.61360  3.70402  3.43657                 OR4F5  \n",
            "1  5.58615  5.20241  5.31827  4.76315  4.84886                SAMD11  \n",
            "2  5.03233  5.00901  4.87182  5.06028  5.47748                KLHL17  \n",
            "3  7.24180  6.73315  6.65539  6.88071  6.60243               PLEKHN1  \n",
            "4  4.99302  5.52507  5.22665  5.08968  5.11562                 ISG15  \n",
            "\n",
            "[5 rows x 26 columns]\n"
          ]
        }
      ]
    },
    {
      "cell_type": "code",
      "execution_count": null,
      "metadata": {
        "id": "g_ccSADAdfR1",
        "colab": {
          "base_uri": "https://localhost:8080/"
        },
        "outputId": "c2c6d911-5b16-4115-987a-ec26f7d4a262"
      },
      "outputs": [
        {
          "output_type": "stream",
          "name": "stdout",
          "text": [
            "     0        1        2        3        4        5        6        7      \\\n",
            "1  4.61101  5.18858  4.76671  5.99295  5.90252  6.30593  4.88346  5.18739   \n",
            "1  3.93670  4.69930  5.07218  5.03977  5.70587  4.94126  4.63002  6.11360   \n",
            "1  4.50632  4.75295  4.86237  5.73988  6.02649  5.20489  5.16173  6.20032   \n",
            "1  3.25702  5.41349  5.35532  5.61755  5.24064  6.12718  4.28320  5.67839   \n",
            "1  3.43970  5.41200  4.81166  6.01122  6.29135  4.24203  6.04386  6.35652   \n",
            "1  3.61398  5.17729  4.45512  5.51166  4.96404  6.24263  4.72898  5.61296   \n",
            "1  4.01474  4.97784  5.04126  6.07212  4.99105  5.18019  4.76295  5.79796   \n",
            "1  3.94419  4.89836  5.47324  5.24071  5.05505  6.05403  5.03961  5.29539   \n",
            "1  4.06883  4.88841  4.94555  6.34674  4.53265  5.63077  4.74499  5.66557   \n",
            "1  3.56435  4.94963  5.27088  6.44707  5.28232  5.25272  4.56062  6.52139   \n",
            "1  3.91653  4.80516  5.16140  5.44060  5.19331  5.88902  4.11135  5.21618   \n",
            "1  3.58413  4.85533  4.82544  6.68790  4.86229  5.32185  4.70684  5.24996   \n",
            "0  3.24731  5.21370  4.87763  6.55844  5.75243  4.91268  4.82959  5.28488   \n",
            "0  3.79417  4.69198  5.09632  5.67114  4.84792  5.25730  4.31253  5.48363   \n",
            "0  3.95053  5.19551  4.68386  6.43627  5.49164  5.37798  4.45930  5.61519   \n",
            "0  3.45582  5.22657  5.14163  6.61143  5.14277  4.77588  4.93555  5.66295   \n",
            "0  3.42089  5.13776  5.21066  6.54831  4.69743  5.03962  4.41789  5.66048   \n",
            "0  3.82201  3.95715  4.48366  7.56805  5.08882  5.18321  4.98867  5.76090   \n",
            "0  3.44718  5.21787  4.83351  7.31333  5.53542  5.45212  4.96880  5.32332   \n",
            "0  3.88868  5.58615  5.03233  7.24180  4.99302  5.93452  5.07119  5.27602   \n",
            "0  3.62428  5.20241  5.00901  6.73315  5.52507  5.46881  4.29120  5.35254   \n",
            "0  3.61360  5.31827  4.87182  6.65539  5.22665  5.49158  4.48526  5.37520   \n",
            "0  3.70402  4.76315  5.06028  6.88071  5.08968  5.00016  4.75883  5.48715   \n",
            "0  3.43657  4.84886  5.47748  6.60243  5.11562  5.77449  4.38606  5.54039   \n",
            "\n",
            "     8        9      ...    21438    21439    21440    21441    21442  \\\n",
            "1  6.64522  3.57601  ...  3.08337  3.69073  3.19236  2.93649  4.15262   \n",
            "1  5.53967  3.55844  ...  3.24617  6.40829  3.92462  3.72030  5.49345   \n",
            "1  6.23498  3.49524  ...  2.89213  3.70781  3.38894  3.58710  4.45971   \n",
            "1  6.30438  3.18774  ...  3.01149  3.85573  3.86987  3.20993  4.40281   \n",
            "1  6.30525  3.87256  ...  3.17456  4.87080  3.68496  3.68173  5.09028   \n",
            "1  5.79451  3.48558  ...  3.11239  4.25229  3.31499  3.33566  4.94466   \n",
            "1  6.71230  3.26948  ...  3.11879  4.42882  3.69993  3.23536  4.60125   \n",
            "1  6.92655  3.35165  ...  3.06413  3.12660  3.20647  2.95164  4.02231   \n",
            "1  5.76847  3.13595  ...  3.21724  3.75720  3.16525  3.06118  4.01903   \n",
            "1  6.63259  3.29065  ...  3.04818  3.73102  3.46332  2.92434  4.83842   \n",
            "1  5.93288  3.26957  ...  3.11532  3.10771  3.11851  2.98038  4.52286   \n",
            "1  5.98918  3.01058  ...  2.92167  3.39977  3.13598  2.97473  4.59961   \n",
            "0  5.74942  3.16794  ...  2.81534  3.78307  3.09369  3.29178  4.66243   \n",
            "0  6.27641  3.18434  ...  3.26729  3.89434  3.24693  3.04717  4.91940   \n",
            "0  6.14843  4.01422  ...  3.56697  4.03044  2.98768  3.20534  4.43563   \n",
            "0  6.15672  3.13914  ...  3.12240  3.42666  3.44389  2.99790  4.51835   \n",
            "0  6.23932  3.29500  ...  2.81703  3.50854  3.17217  2.82587  4.39633   \n",
            "0  6.22481  3.18279  ...  3.40694  3.80370  3.32545  3.36664  4.53209   \n",
            "0  6.66956  3.28271  ...  3.02401  3.77678  3.43206  3.02469  4.47677   \n",
            "0  6.25616  2.94633  ...  2.73216  4.02868  3.46160  2.91311  4.09493   \n",
            "0  6.10525  3.52325  ...  3.15906  3.89629  3.43099  2.92758  4.15348   \n",
            "0  5.92465  3.49057  ...  3.64874  3.57679  3.23901  3.00974  4.31506   \n",
            "0  6.34890  3.38301  ...  3.22297  3.83035  3.00302  2.94575  4.03514   \n",
            "0  5.85908  3.21523  ...  3.01625  3.80365  2.97241  2.82201  4.13062   \n",
            "\n",
            "      21443    21444    21445    21446    21447  \n",
            "1  10.10210  5.93044  4.01845  3.84448  5.18179  \n",
            "1  11.64140  3.81462  3.67191  3.48169  5.04846  \n",
            "1   9.17717  6.42612  4.35515  4.12316  5.76080  \n",
            "1   9.46352  4.73510  4.22654  3.84278  4.73625  \n",
            "1   8.33642  4.78254  4.47727  5.13702  5.94928  \n",
            "1   9.28908  4.75167  4.88415  4.45065  4.94354  \n",
            "1   9.33353  5.45078  4.01259  4.41662  4.92145  \n",
            "1  10.66690  4.46380  4.41177  3.86641  4.54692  \n",
            "1   9.72015  4.08545  4.48141  4.00709  4.42811  \n",
            "1   9.69698  4.13899  4.43278  3.90098  5.25498  \n",
            "1  10.08010  4.43003  3.33125  3.64505  4.13608  \n",
            "1   9.14856  3.95120  4.62131  3.70509  4.47741  \n",
            "0   9.53401  4.16873  4.17334  3.59549  4.65933  \n",
            "0   9.78116  4.58578  4.29792  3.92565  4.71603  \n",
            "0   9.66364  4.15819  3.94999  3.57907  4.79597  \n",
            "0   9.52659  4.12846  3.68296  3.61259  4.61563  \n",
            "0   9.85141  3.87511  3.85822  3.75273  4.94793  \n",
            "0   8.68615  4.54321  4.24921  4.58770  4.19345  \n",
            "0   9.49090  4.42560  4.84324  4.08475  4.18271  \n",
            "0   8.86633  4.54138  4.05939  4.02573  4.33298  \n",
            "0   9.89931  3.92164  4.22391  3.68646  4.55192  \n",
            "0   9.84061  4.16163  3.85157  4.06752  4.73347  \n",
            "0   9.64962  3.89892  4.01518  3.91771  4.07332  \n",
            "0   9.78342  4.15338  3.87497  3.51249  5.09352  \n",
            "\n",
            "[24 rows x 21448 columns]\n"
          ]
        }
      ],
      "source": [
        "import pandas as pd\n",
        "\n",
        "data = pd.read_csv('eoe_data.csv')\n",
        "\n",
        "data_dropped = data.iloc[:, 1:-1]\n",
        "\n",
        "transposed_data = data_dropped.T\n",
        "\n",
        "transposed_data.index = transposed_data.index.str.startswith('E').astype(int)\n",
        "\n",
        "print(transposed_data)\n"
      ]
    },
    {
      "cell_type": "code",
      "source": [
        "import numpy as np\n",
        "\n",
        "transposed_file_name = 'transposed_data.csv'\n",
        "\n",
        "np.savetxt(transposed_file_name, transposed_data, delimiter=',', fmt='%s')\n",
        "\n",
        "print(f\"Transposed data has been saved to '{transposed_file_name}'\")\n"
      ],
      "metadata": {
        "colab": {
          "base_uri": "https://localhost:8080/"
        },
        "id": "0aqtq0KxPSaW",
        "outputId": "36499a16-c33f-453b-8bba-463795b551e7"
      },
      "execution_count": null,
      "outputs": [
        {
          "output_type": "stream",
          "name": "stdout",
          "text": [
            "Transposed data has been saved to 'transposed_data.csv'\n"
          ]
        }
      ]
    },
    {
      "cell_type": "code",
      "source": [
        "transposed_df = pd.read_csv(transposed_file_name, header=None)\n",
        "\n",
        "def normalize_df(transposed_df):\n",
        "    numeric_df = transposed_df.apply(pd.to_numeric, errors='coerce')\n",
        "    min_values = np.min(numeric_df, axis=0)\n",
        "    max_values = np.max(numeric_df, axis=0)\n",
        "    scaled_df = (numeric_df - min_values) / (max_values - min_values)\n",
        "    return scaled_df\n",
        "\n",
        "scaled_data = normalize_df(transposed_df)\n",
        "print(scaled_data)\n",
        "scaled_data.to_csv('scaled_data.csv',index=False)"
      ],
      "metadata": {
        "colab": {
          "base_uri": "https://localhost:8080/"
        },
        "id": "cb0M_2khPYbX",
        "outputId": "12032182-fd5f-41c3-ea7b-7e978ac86f50"
      },
      "execution_count": null,
      "outputs": [
        {
          "output_type": "stream",
          "name": "stdout",
          "text": [
            "       0         1         2         3         4         5         6      \\\n",
            "0   1.000000  0.755942  0.304775  0.377007  0.778911  1.000000  0.399537   \n",
            "1   0.505529  0.455586  0.603564  0.000000  0.667095  0.338791  0.268392   \n",
            "2   0.923231  0.488521  0.398343  0.276912  0.849400  0.466525  0.543531   \n",
            "3   0.007120  0.894009  0.880512  0.228527  0.402564  0.913392  0.088926   \n",
            "4   0.141079  0.893094  0.348742  0.384234  1.000000  0.000000  1.000000   \n",
            "5   0.268879  0.749012  0.000000  0.186645  0.245289  0.969330  0.319600   \n",
            "6   0.562756  0.626575  0.573321  0.408321  0.260647  0.454557  0.337178   \n",
            "7   0.511021  0.577784  0.995853  0.079477  0.297038  0.877950  0.480339   \n",
            "8   0.602420  0.571676  0.479704  0.516940  0.000000  0.672872  0.327884   \n",
            "9   0.232485  0.609257  0.797919  0.556623  0.426264  0.489699  0.232480   \n",
            "10  0.490738  0.520571  0.690833  0.158539  0.375652  0.797999  0.000000   \n",
            "11  0.246990  0.551369  0.362221  0.651878  0.187434  0.523194  0.308143   \n",
            "12  0.000000  0.771363  0.413269  0.600673  0.693569  0.324943  0.371662   \n",
            "13  0.401012  0.451093  0.627176  0.249723  0.179263  0.491918  0.104103   \n",
            "14  0.515671  0.760196  0.223737  0.552352  0.545283  0.550390  0.180051   \n",
            "15  0.152900  0.779263  0.671495  0.621632  0.346915  0.258661  0.426492   \n",
            "16  0.127286  0.724745  0.739016  0.596667  0.093694  0.386448  0.158623   \n",
            "17  0.421427  0.000000  0.027916  1.000000  0.316239  0.456020  0.453980   \n",
            "18  0.146564  0.773923  0.370114  0.899252  0.570177  0.586312  0.443698   \n",
            "19  0.470316  1.000000  0.564586  0.870960  0.261767  0.820045  0.496680   \n",
            "20  0.276432  0.764432  0.541776  0.669775  0.564292  0.594399  0.093065   \n",
            "21  0.268600  0.835556  0.407586  0.639019  0.394610  0.605431  0.193484   \n",
            "22  0.334905  0.494782  0.591925  0.728139  0.316728  0.367329  0.335046   \n",
            "23  0.138784  0.547397  1.000000  0.618072  0.331478  0.742507  0.142152   \n",
            "\n",
            "       7         8         9      ...     21438     21439     21440     21441  \\\n",
            "0   0.000000  0.797149  0.589649  ...  0.383174  0.176642  0.230989  0.127442   \n",
            "1   0.694310  0.000000  0.573196  ...  0.560791  1.000000  1.000000  1.000000   \n",
            "2   0.759318  0.501348  0.514014  ...  0.174529  0.181817  0.437435  0.851718   \n",
            "3   0.368066  0.551389  0.226063  ...  0.304752  0.226633  0.942502  0.431843   \n",
            "4   0.876409  0.552016  0.867346  ...  0.482664  0.534176  0.748312  0.957063   \n",
            "5   0.319018  0.183751  0.504968  ...  0.414836  0.346781  0.359774  0.571809   \n",
            "6   0.457699  0.845517  0.302606  ...  0.421818  0.400266  0.764033  0.460152   \n",
            "7   0.080960  1.000000  0.379552  ...  0.362183  0.005723  0.245807  0.144308   \n",
            "8   0.358456  0.164975  0.177565  ...  0.529228  0.196781  0.202518  0.266250   \n",
            "9   1.000000  0.788042  0.322430  ...  0.344782  0.188849  0.515548  0.113916   \n",
            "10  0.021582  0.283521  0.302690  ...  0.418032  0.000000  0.153433  0.176302   \n",
            "11  0.046904  0.324116  0.060165  ...  0.206758  0.088487  0.171779  0.170012   \n",
            "12  0.073081  0.151239  0.207521  ...  0.090750  0.204619  0.127367  0.522960   \n",
            "13  0.222069  0.531221  0.222879  ...  0.583833  0.238331  0.288298  0.250654   \n",
            "14  0.320690  0.438942  1.000000  ...  0.910788  0.279566  0.016036  0.426733   \n",
            "15  0.356492  0.444920  0.180552  ...  0.425757  0.096635  0.495143  0.195805   \n",
            "16  0.354640  0.504478  0.326504  ...  0.092594  0.121442  0.209786  0.004297   \n",
            "17  0.429918  0.494015  0.221427  ...  0.736193  0.210869  0.370759  0.606296   \n",
            "18  0.101897  0.814699  0.314995  ...  0.318412  0.202713  0.482719  0.225629   \n",
            "19  0.066439  0.516620  0.000000  ...  0.000000  0.279033  0.513742  0.101415   \n",
            "20  0.123801  0.407807  0.540243  ...  0.465753  0.238922  0.481595  0.117523   \n",
            "21  0.140787  0.277587  0.509641  ...  1.000000  0.142120  0.279980  0.208986   \n",
            "22  0.224708  0.583490  0.408919  ...  0.535480  0.218943  0.032146  0.137751   \n",
            "23  0.264618  0.230308  0.251805  ...  0.309946  0.210854  0.000000  0.000000   \n",
            "\n",
            "       21442     21443     21444     21445     21446     21447  \n",
            "0   0.090605  0.534248  0.810193  0.442527  0.219165  0.590881  \n",
            "1   1.000000  1.000000  0.000000  0.219370  0.000000  0.519809  \n",
            "2   0.298884  0.254389  1.000000  0.659347  0.387518  0.899529  \n",
            "3   0.260292  0.341031  0.352472  0.576528  0.218138  0.353382  \n",
            "4   0.726557  0.000000  0.370638  0.737987  1.000000  1.000000  \n",
            "5   0.627793  0.288250  0.358817  1.000000  0.585358  0.463880  \n",
            "6   0.394881  0.301699  0.626521  0.438753  0.564800  0.452105  \n",
            "7   0.002225  0.705142  0.248585  0.695808  0.232413  0.252457  \n",
            "8   0.000000  0.418680  0.103707  0.740653  0.317399  0.189125  \n",
            "9   0.555737  0.411670  0.124208  0.709337  0.253297  0.629896  \n",
            "10  0.341714  0.527592  0.235654  0.000000  0.098687  0.033455  \n",
            "11  0.393768  0.245732  0.052299  0.830742  0.134958  0.215404  \n",
            "12  0.436375  0.362359  0.135596  0.542269  0.068748  0.312379  \n",
            "13  0.610660  0.437140  0.295294  0.622493  0.268200  0.342603  \n",
            "14  0.282552  0.401582  0.131560  0.398442  0.058828  0.385216  \n",
            "15  0.338655  0.360114  0.120176  0.226486  0.079078  0.289084  \n",
            "16  0.255897  0.458396  0.023163  0.339346  0.163738  0.466220  \n",
            "17  0.347974  0.105819  0.278993  0.591126  0.668151  0.064037  \n",
            "18  0.310454  0.349315  0.233957  0.973656  0.364314  0.058311  \n",
            "19  0.051478  0.160337  0.278292  0.468890  0.328660  0.138414  \n",
            "20  0.091188  0.472889  0.040980  0.574834  0.123703  0.255123  \n",
            "21  0.200777  0.455128  0.132878  0.335063  0.353905  0.351900  \n",
            "22  0.010926  0.397340  0.032280  0.440421  0.263404  0.000000  \n",
            "23  0.075684  0.437824  0.129719  0.350132  0.018607  0.543828  \n",
            "\n",
            "[24 rows x 21448 columns]\n"
          ]
        }
      ]
    },
    {
      "cell_type": "code",
      "source": [
        "import pandas as pd\n",
        "\n",
        "data = pd.read_csv(\"scaled_data.csv\")\n",
        "\n",
        "variance = data.var()\n",
        "\n",
        "print(\"Variance of each column:\")\n",
        "print(variance)\n"
      ],
      "metadata": {
        "colab": {
          "base_uri": "https://localhost:8080/"
        },
        "id": "a0MiVG-jQMLd",
        "outputId": "dd9298d3-37e8-44a9-d9ee-93990801c0b7"
      },
      "execution_count": null,
      "outputs": [
        {
          "output_type": "stream",
          "name": "stdout",
          "text": [
            "Variance of each column:\n",
            "0        0.064177\n",
            "1        0.042383\n",
            "2        0.067658\n",
            "3        0.069074\n",
            "4        0.059700\n",
            "           ...   \n",
            "21443    0.038322\n",
            "21444    0.061395\n",
            "21445    0.056891\n",
            "21446    0.054549\n",
            "21447    0.063501\n",
            "Length: 21448, dtype: float64\n"
          ]
        }
      ]
    },
    {
      "cell_type": "code",
      "source": [
        "import pandas as pd\n",
        "import matplotlib.pyplot as plt\n",
        "\n",
        "data = pd.read_csv(\"scaled_data.csv\")\n",
        "\n",
        "variance = data.var()"
      ],
      "metadata": {
        "id": "Q8v3jm5NQhjS"
      },
      "execution_count": null,
      "outputs": []
    },
    {
      "cell_type": "code",
      "source": [
        "import pandas as pd\n",
        "import matplotlib.pyplot as plt\n",
        "\n",
        "data = pd.read_csv(\"scaled_data.csv\")\n",
        "\n",
        "variance = data.var()\n",
        "\n",
        "top_100_variances = variance.sort_values(ascending=False).head(40)\n",
        "top_100_variances\n"
      ],
      "metadata": {
        "colab": {
          "base_uri": "https://localhost:8080/"
        },
        "id": "Qrd_fpJcQbCS",
        "outputId": "502454d6-48dc-4a98-84cc-c44aa16fab21"
      },
      "execution_count": null,
      "outputs": [
        {
          "output_type": "execute_result",
          "data": {
            "text/plain": [
              "10872    0.144977\n",
              "127      0.141480\n",
              "10822    0.140543\n",
              "7036     0.139869\n",
              "126      0.136916\n",
              "10856    0.135520\n",
              "10830    0.135129\n",
              "13725    0.131943\n",
              "5833     0.128662\n",
              "10821    0.128070\n",
              "19819    0.127456\n",
              "20723    0.127354\n",
              "13565    0.126920\n",
              "13730    0.126004\n",
              "4788     0.125400\n",
              "15640    0.121535\n",
              "11002    0.121534\n",
              "8982     0.121263\n",
              "18379    0.120903\n",
              "2503     0.120669\n",
              "6461     0.120596\n",
              "16313    0.119855\n",
              "13963    0.119772\n",
              "7612     0.119601\n",
              "3130     0.119466\n",
              "11353    0.118908\n",
              "20486    0.118897\n",
              "8160     0.118833\n",
              "6189     0.118633\n",
              "15176    0.118563\n",
              "12750    0.118265\n",
              "7070     0.117944\n",
              "3147     0.117707\n",
              "1341     0.117559\n",
              "1872     0.117302\n",
              "8734     0.116948\n",
              "8300     0.116882\n",
              "7212     0.116702\n",
              "10332    0.116694\n",
              "2892     0.116328\n",
              "dtype: float64"
            ]
          },
          "metadata": {},
          "execution_count": 7
        }
      ]
    },
    {
      "cell_type": "code",
      "source": [
        "import pandas as pd\n",
        "import matplotlib.pyplot as plt\n",
        "\n",
        "data = pd.read_csv(\"scaled_data.csv\")\n",
        "\n",
        "variance = data.var()\n",
        "\n",
        "top_40_variances = variance.sort_values(ascending=False).head(40)\n",
        "\n",
        "plt.figure(figsize=(10, 6))\n",
        "plt.plot(top_40_variances, marker='o', linestyle='-')\n",
        "plt.title('Top 40 Variances of EOE')\n",
        "plt.xlabel('Columns')\n",
        "plt.ylabel('Variance')\n",
        "plt.grid(True)\n",
        "plt.xticks(rotation=45)\n",
        "plt.tight_layout()\n",
        "plt.show()\n"
      ],
      "metadata": {
        "colab": {
          "base_uri": "https://localhost:8080/",
          "height": 607
        },
        "id": "HA9bpypdGO6m",
        "outputId": "a126e73e-b91a-4694-f03e-7f6789724435"
      },
      "execution_count": null,
      "outputs": [
        {
          "output_type": "display_data",
          "data": {
            "text/plain": [
              "<Figure size 1000x600 with 1 Axes>"
            ],
            "image/png": "[encoded data removed]"
          },
          "metadata": {}
        }
      ]
    },
    {
      "cell_type": "code",
      "source": [
        "\n",
        "top_100_indexes = top_100_variances.index\n",
        "\n",
        "print(top_100_indexes)"
      ],
      "metadata": {
        "colab": {
          "base_uri": "https://localhost:8080/"
        },
        "id": "BOa_u9LoRkWJ",
        "outputId": "a9fb83ec-3820-4bd9-b229-f3ac18b3c346"
      },
      "execution_count": null,
      "outputs": [
        {
          "output_type": "stream",
          "name": "stdout",
          "text": [
            "Index(['10872', '127', '10822', '7036', '126', '10856', '10830', '13725',\n",
            "       '5833', '10821', '19819', '20723', '13565', '13730', '4788', '15640',\n",
            "       '11002', '8982', '18379', '2503', '6461', '16313', '13963', '7612',\n",
            "       '3130', '11353', '20486', '8160', '6189', '15176', '12750', '7070',\n",
            "       '3147', '1341', '1872', '8734', '8300', '7212', '10332', '2892'],\n",
            "      dtype='object')\n"
          ]
        }
      ]
    },
    {
      "cell_type": "code",
      "source": [
        "indexes_without_quotes = [int(index) for index in top_100_indexes]\n",
        "print(indexes_without_quotes)\n"
      ],
      "metadata": {
        "colab": {
          "base_uri": "https://localhost:8080/"
        },
        "id": "BHjCmywZSyAd",
        "outputId": "b20667ef-bef9-4b6a-e5db-724ab71dc88c"
      },
      "execution_count": null,
      "outputs": [
        {
          "output_type": "stream",
          "name": "stdout",
          "text": [
            "[10872, 127, 10822, 7036, 126, 10856, 10830, 13725, 5833, 10821, 19819, 20723, 13565, 13730, 4788, 15640, 11002, 8982, 18379, 2503, 6461, 16313, 13963, 7612, 3130, 11353, 20486, 8160, 6189, 15176, 12750, 7070, 3147, 1341, 1872, 8734, 8300, 7212, 10332, 2892]\n"
          ]
        }
      ]
    },
    {
      "cell_type": "code",
      "source": [
        "\n",
        "\n",
        "import pandas as pd\n",
        "\n",
        "data = pd.read_excel('/content/Final_EOE_Dataset_V2.xlsx')\n",
        "\n",
        "indices = [10871, 126, 10821, 7035, 125, 10855, 10829, 13724, 5832, 10820, 19818, 20722, 13564, 13729, 4787, 15639, 11001, 8981, 18378, 2502, 6460, 16312, 13962, 7611, 3129, 11352, 20485, 8159, 6188, 15175, 12749, 7069, 3146, 1340, 1871, 8733, 8299, 7211, 10331, 2891\n",
        "]\n",
        "gene_names = data.loc[indices, 'Extracted Gene Names']\n",
        "\n",
        "print(gene_names)"
      ],
      "metadata": {
        "colab": {
          "base_uri": "https://localhost:8080/"
        },
        "id": "ectzE0o9TAb9",
        "outputId": "1d2a3e89-7677-40c6-d3f9-ab624c288c4b"
      },
      "execution_count": null,
      "outputs": [
        {
          "output_type": "stream",
          "name": "stdout",
          "text": [
            "10871        ASMT\n",
            "126           CDA\n",
            "10821       USP9Y\n",
            "7035       CRISP2\n",
            "125        FAM43B\n",
            "10855    FAM197Y1\n",
            "10829      TXLNGY\n",
            "13724      PTGES3\n",
            "5832        EXOC3\n",
            "10820      TSPY10\n",
            "19818     FAM217B\n",
            "20722     SLC16A8\n",
            "13564       RECQL\n",
            "13729       STAT6\n",
            "4787      MTHFD2L\n",
            "15639       FOXB1\n",
            "11001      ARID5B\n",
            "8981          ARC\n",
            "18378       CILP2\n",
            "2502        G6PC2\n",
            "6460        MUC22\n",
            "16312       CBLN1\n",
            "13962     SLC48A1\n",
            "7611       STEAP2\n",
            "3129        HIBCH\n",
            "11352      ZFAND4\n",
            "20485      RNF185\n",
            "8159        SVOPL\n",
            "6188        EXOC3\n",
            "15175         DUT\n",
            "12749     PPP2R1B\n",
            "7069       MB21D1\n",
            "3146         BOLL\n",
            "1340       LRRC40\n",
            "1871        EXOC8\n",
            "8733         PSD3\n",
            "8299        FSCN3\n",
            "7211        FUCA2\n",
            "10331       PNMA3\n",
            "2891       CLEC4F\n",
            "Name: Extracted Gene Names, dtype: object\n"
          ]
        }
      ]
    }
  ]
}